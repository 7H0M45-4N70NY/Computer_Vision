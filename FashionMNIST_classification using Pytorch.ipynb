{
  "nbformat": 4,
  "nbformat_minor": 0,
  "metadata": {
    "colab": {
      "provenance": [],
      "gpuType": "T4"
    },
    "kernelspec": {
      "name": "python3",
      "display_name": "Python 3"
    },
    "language_info": {
      "name": "python"
    },
    "accelerator": "GPU"
  },
  "cells": [
    {
      "cell_type": "code",
      "execution_count": 2,
      "metadata": {
        "id": "2rE5WeCMcUVY"
      },
      "outputs": [],
      "source": [
        "import torch"
      ]
    },
    {
      "cell_type": "code",
      "source": [
        "torch.__version__"
      ],
      "metadata": {
        "colab": {
          "base_uri": "https://localhost:8080/",
          "height": 35
        },
        "id": "diYkyFFHV_9e",
        "outputId": "597aef85-f2cb-47b8-863a-9914f457cab4"
      },
      "execution_count": 3,
      "outputs": [
        {
          "output_type": "execute_result",
          "data": {
            "text/plain": [
              "'2.2.1+cu121'"
            ],
            "application/vnd.google.colaboratory.intrinsic+json": {
              "type": "string"
            }
          },
          "metadata": {},
          "execution_count": 3
        }
      ]
    },
    {
      "cell_type": "code",
      "source": [
        "from torch import nn #Importing neural net\n",
        "from torch.utils.data import DataLoader\n",
        "from torchvision import datasets\n",
        "from torchvision.transforms import ToTensor,Compose,Lambda\n",
        "import matplotlib.pyplot as plt"
      ],
      "metadata": {
        "id": "Vg2rb8f7WDFr"
      },
      "execution_count": 4,
      "outputs": []
    },
    {
      "cell_type": "code",
      "source": [
        "training_set = datasets.FashionMNIST('data', train=True, transform=ToTensor(), download=True)\n",
        "testing_set=datasets.FashionMNIST('data', train=False, transform=ToTensor(), download=True)"
      ],
      "metadata": {
        "colab": {
          "base_uri": "https://localhost:8080/"
        },
        "id": "VOgoO2S1W1L2",
        "outputId": "3e470f22-5bae-42f3-9e6c-4543e71e2926"
      },
      "execution_count": 5,
      "outputs": [
        {
          "output_type": "stream",
          "name": "stdout",
          "text": [
            "Downloading http://fashion-mnist.s3-website.eu-central-1.amazonaws.com/train-images-idx3-ubyte.gz\n",
            "Downloading http://fashion-mnist.s3-website.eu-central-1.amazonaws.com/train-images-idx3-ubyte.gz to data/FashionMNIST/raw/train-images-idx3-ubyte.gz\n"
          ]
        },
        {
          "output_type": "stream",
          "name": "stderr",
          "text": [
            "100%|██████████| 26421880/26421880 [00:02<00:00, 9467081.20it/s] \n"
          ]
        },
        {
          "output_type": "stream",
          "name": "stdout",
          "text": [
            "Extracting data/FashionMNIST/raw/train-images-idx3-ubyte.gz to data/FashionMNIST/raw\n",
            "\n",
            "Downloading http://fashion-mnist.s3-website.eu-central-1.amazonaws.com/train-labels-idx1-ubyte.gz\n",
            "Downloading http://fashion-mnist.s3-website.eu-central-1.amazonaws.com/train-labels-idx1-ubyte.gz to data/FashionMNIST/raw/train-labels-idx1-ubyte.gz\n"
          ]
        },
        {
          "output_type": "stream",
          "name": "stderr",
          "text": [
            "100%|██████████| 29515/29515 [00:00<00:00, 158295.56it/s]\n"
          ]
        },
        {
          "output_type": "stream",
          "name": "stdout",
          "text": [
            "Extracting data/FashionMNIST/raw/train-labels-idx1-ubyte.gz to data/FashionMNIST/raw\n",
            "\n",
            "Downloading http://fashion-mnist.s3-website.eu-central-1.amazonaws.com/t10k-images-idx3-ubyte.gz\n",
            "Downloading http://fashion-mnist.s3-website.eu-central-1.amazonaws.com/t10k-images-idx3-ubyte.gz to data/FashionMNIST/raw/t10k-images-idx3-ubyte.gz\n"
          ]
        },
        {
          "output_type": "stream",
          "name": "stderr",
          "text": [
            "100%|██████████| 4422102/4422102 [00:01<00:00, 2921743.10it/s]\n"
          ]
        },
        {
          "output_type": "stream",
          "name": "stdout",
          "text": [
            "Extracting data/FashionMNIST/raw/t10k-images-idx3-ubyte.gz to data/FashionMNIST/raw\n",
            "\n",
            "Downloading http://fashion-mnist.s3-website.eu-central-1.amazonaws.com/t10k-labels-idx1-ubyte.gz\n",
            "Downloading http://fashion-mnist.s3-website.eu-central-1.amazonaws.com/t10k-labels-idx1-ubyte.gz to data/FashionMNIST/raw/t10k-labels-idx1-ubyte.gz\n"
          ]
        },
        {
          "output_type": "stream",
          "name": "stderr",
          "text": [
            "100%|██████████| 5148/5148 [00:00<00:00, 6455090.28it/s]"
          ]
        },
        {
          "output_type": "stream",
          "name": "stdout",
          "text": [
            "Extracting data/FashionMNIST/raw/t10k-labels-idx1-ubyte.gz to data/FashionMNIST/raw\n",
            "\n"
          ]
        },
        {
          "output_type": "stream",
          "name": "stderr",
          "text": [
            "\n"
          ]
        }
      ]
    },
    {
      "cell_type": "code",
      "source": [
        "training_loader = torch.utils.data.DataLoader(training_set, batch_size=64, shuffle=True)\n",
        "testing_loader = torch.utils.data.DataLoader(testing_set, batch_size=64, shuffle=False)"
      ],
      "metadata": {
        "id": "GBWzy45HXpv0"
      },
      "execution_count": 6,
      "outputs": []
    },
    {
      "cell_type": "code",
      "source": [
        "len(training_loader.dataset)"
      ],
      "metadata": {
        "colab": {
          "base_uri": "https://localhost:8080/"
        },
        "id": "2lN0bAbIRKWW",
        "outputId": "171210bc-b6d0-4efb-d4ea-12133475e7a9"
      },
      "execution_count": 14,
      "outputs": [
        {
          "output_type": "execute_result",
          "data": {
            "text/plain": [
              "60000"
            ]
          },
          "metadata": {},
          "execution_count": 14
        }
      ]
    },
    {
      "cell_type": "code",
      "source": [
        "device=\"cuda\" if torch.cuda.is_available() else \"cpu\"\n",
        "device"
      ],
      "metadata": {
        "colab": {
          "base_uri": "https://localhost:8080/",
          "height": 35
        },
        "id": "FyEg95NCYFdB",
        "outputId": "b4d94a14-5b9c-4f26-a542-f12f5332c48f"
      },
      "execution_count": 7,
      "outputs": [
        {
          "output_type": "execute_result",
          "data": {
            "text/plain": [
              "'cuda'"
            ],
            "application/vnd.google.colaboratory.intrinsic+json": {
              "type": "string"
            }
          },
          "metadata": {},
          "execution_count": 7
        }
      ]
    },
    {
      "cell_type": "code",
      "source": [
        "class NeuralNetworks(nn.Module):\n",
        "  def __init__(self):\n",
        "    super(NeuralNetworks,self).__init__()\n",
        "    self.flatten=nn.Flatten()\n",
        "    self.linear_relu_stack=nn.Sequential(\n",
        "        nn.Linear(28*28, 512),\n",
        "        nn.ReLU(),\n",
        "        nn.Linear(512, 512),\n",
        "        nn.ReLU(),\n",
        "        nn.Linear(512, 10),\n",
        "    )\n",
        "\n",
        "  def forward(self,x):\n",
        "        x = self.flatten(x)\n",
        "        logits = self.linear_relu_stack(x)\n",
        "        return logits\n"
      ],
      "metadata": {
        "id": "xMgK3X0iYH6g"
      },
      "execution_count": 11,
      "outputs": []
    },
    {
      "cell_type": "code",
      "source": [
        "model=NeuralNetworks().to(device)\n",
        "print(model)"
      ],
      "metadata": {
        "colab": {
          "base_uri": "https://localhost:8080/"
        },
        "id": "UY-GbvLrPe0z",
        "outputId": "29033824-65ab-49e7-a259-1d1dd58ac694"
      },
      "execution_count": 12,
      "outputs": [
        {
          "output_type": "stream",
          "name": "stdout",
          "text": [
            "NeuralNetworks(\n",
            "  (flatten): Flatten(start_dim=1, end_dim=-1)\n",
            "  (linear_relu_stack): Sequential(\n",
            "    (0): Linear(in_features=784, out_features=512, bias=True)\n",
            "    (1): ReLU()\n",
            "    (2): Linear(in_features=512, out_features=512, bias=True)\n",
            "    (3): ReLU()\n",
            "    (4): Linear(in_features=512, out_features=10, bias=True)\n",
            "  )\n",
            ")\n"
          ]
        }
      ]
    },
    {
      "cell_type": "code",
      "source": [
        "loss_fn = nn.CrossEntropyLoss()\n",
        "# Optimizers specified in the torch.optim package\n",
        "optimizer = torch.optim.SGD(model.parameters(), lr=0.001, momentum=0.9)"
      ],
      "metadata": {
        "id": "_NAzJO0KPo1N"
      },
      "execution_count": 13,
      "outputs": []
    },
    {
      "cell_type": "code",
      "source": [
        "def train(dataloader,model,loss_fn,optimizer):\n",
        "  size=len(dataloader.dataset)\n",
        "  model.train()\n",
        "  for batch,(X,y) in enumerate(dataloader):\n",
        "    X,y=X.to(device),y.to(device)\n",
        "\n",
        "    #Predicting\n",
        "    pred=model(X)\n",
        "    loss=loss_fn(pred,y)\n",
        "    #Back Propagation\n",
        "    optimizer.zero_grad()\n",
        "    loss.backward()\n",
        "    optimizer.step()\n",
        "\n",
        "    if batch % 100==0:\n",
        "      loss,current=loss.item(),batch*len(X)\n",
        "      print(f\"loss:{loss:.>7f} [{current:>5d}/{size:>5d}]\")"
      ],
      "metadata": {
        "id": "k_3gYfv1P_kI"
      },
      "execution_count": 15,
      "outputs": []
    },
    {
      "cell_type": "code",
      "source": [
        "def test(dataloader, model, loss_fn):\n",
        "  size = len(dataloader.dataset)\n",
        "  num_batches = len(dataloader)\n",
        "  model.eval()\n",
        "  test_loss, correct = 0, 0\n",
        "  with torch.no_grad():\n",
        "    for X,y in dataloader:\n",
        "      X,y=X.to(device),y.to(device)\n",
        "      pred=model(X)\n",
        "      test_loss+=loss_fn(pred,y).item()\n",
        "      correct+=(pred.argmax(1)==y).type(torch.float).sum().item()\n",
        "  test_loss/=num_batches\n",
        "  correct/=size\n",
        "  print(f\"Test Error: \\n Accuracy: {(100*correct):>0.1f}%, Avg loss: {test_loss:>8f} \\n\")"
      ],
      "metadata": {
        "id": "XkJwkZ4KR9VZ"
      },
      "execution_count": 16,
      "outputs": []
    },
    {
      "cell_type": "code",
      "source": [
        "## Start training\n",
        "\n",
        "epochs = 10\n",
        "\n",
        "for t in range(epochs):\n",
        "  print(f\"Epoch {t+1}\\n-------------------------------\")\n",
        "  train(training_loader, model, loss_fn, optimizer)\n",
        "  test(testing_loader, model, loss_fn)\n",
        "\n",
        "print(\"Done!\")"
      ],
      "metadata": {
        "colab": {
          "base_uri": "https://localhost:8080/"
        },
        "id": "DFMUJUOJTI2o",
        "outputId": "a33c7cdc-b345-48cd-c81c-c48d120fe5cd"
      },
      "execution_count": 18,
      "outputs": [
        {
          "output_type": "stream",
          "name": "stdout",
          "text": [
            "Epoch 1\n",
            "-------------------------------\n",
            "loss:2.290712 [    0/60000]\n",
            "loss:2.170606 [ 6400/60000]\n",
            "loss:1.872707 [12800/60000]\n",
            "loss:1.509184 [19200/60000]\n",
            "loss:1.148524 [25600/60000]\n",
            "loss:1.016704 [32000/60000]\n",
            "loss:0.897672 [38400/60000]\n",
            "loss:0.850871 [44800/60000]\n",
            "loss:0.944733 [51200/60000]\n",
            "loss:0.855385 [57600/60000]\n",
            "Test Error: \n",
            " Accuracy: 71.4%, Avg loss: 0.788314 \n",
            "\n",
            "Epoch 2\n",
            "-------------------------------\n",
            "loss:0.847923 [    0/60000]\n",
            "loss:0.731288 [ 6400/60000]\n",
            "loss:0.768251 [12800/60000]\n",
            "loss:0.683345 [19200/60000]\n",
            "loss:0.661853 [25600/60000]\n",
            "loss:0.588080 [32000/60000]\n",
            "loss:0.563616 [38400/60000]\n",
            "loss:0.645629 [44800/60000]\n",
            "loss:0.646898 [51200/60000]\n",
            "loss:0.643571 [57600/60000]\n",
            "Test Error: \n",
            " Accuracy: 78.4%, Avg loss: 0.629482 \n",
            "\n",
            "Epoch 3\n",
            "-------------------------------\n",
            "loss:0.575020 [    0/60000]\n",
            "loss:0.616429 [ 6400/60000]\n",
            "loss:0.641464 [12800/60000]\n",
            "loss:0.537577 [19200/60000]\n",
            "loss:0.796987 [25600/60000]\n",
            "loss:0.521116 [32000/60000]\n",
            "loss:0.549235 [38400/60000]\n",
            "loss:0.444310 [44800/60000]\n",
            "loss:0.520483 [51200/60000]\n",
            "loss:0.515068 [57600/60000]\n",
            "Test Error: \n",
            " Accuracy: 80.8%, Avg loss: 0.553718 \n",
            "\n",
            "Epoch 4\n",
            "-------------------------------\n",
            "loss:0.587440 [    0/60000]\n",
            "loss:0.677765 [ 6400/60000]\n",
            "loss:0.597976 [12800/60000]\n",
            "loss:0.545258 [19200/60000]\n",
            "loss:0.427708 [25600/60000]\n",
            "loss:0.624318 [32000/60000]\n",
            "loss:0.459179 [38400/60000]\n",
            "loss:0.438221 [44800/60000]\n",
            "loss:0.492973 [51200/60000]\n",
            "loss:0.462696 [57600/60000]\n",
            "Test Error: \n",
            " Accuracy: 81.2%, Avg loss: 0.529910 \n",
            "\n",
            "Epoch 5\n",
            "-------------------------------\n",
            "loss:0.480096 [    0/60000]\n",
            "loss:0.343080 [ 6400/60000]\n",
            "loss:0.494319 [12800/60000]\n",
            "loss:0.443158 [19200/60000]\n",
            "loss:0.588483 [25600/60000]\n",
            "loss:0.332086 [32000/60000]\n",
            "loss:0.595231 [38400/60000]\n",
            "loss:0.556857 [44800/60000]\n",
            "loss:0.721385 [51200/60000]\n",
            "loss:0.544995 [57600/60000]\n",
            "Test Error: \n",
            " Accuracy: 82.0%, Avg loss: 0.501211 \n",
            "\n",
            "Epoch 6\n",
            "-------------------------------\n",
            "loss:0.340975 [    0/60000]\n",
            "loss:0.580117 [ 6400/60000]\n",
            "loss:0.437791 [12800/60000]\n",
            "loss:0.378830 [19200/60000]\n",
            "loss:0.468039 [25600/60000]\n",
            "loss:0.573712 [32000/60000]\n",
            "loss:0.446595 [38400/60000]\n",
            "loss:0.396596 [44800/60000]\n",
            "loss:0.420253 [51200/60000]\n",
            "loss:0.480784 [57600/60000]\n",
            "Test Error: \n",
            " Accuracy: 83.0%, Avg loss: 0.481831 \n",
            "\n",
            "Epoch 7\n",
            "-------------------------------\n",
            "loss:0.421037 [    0/60000]\n",
            "loss:0.418551 [ 6400/60000]\n",
            "loss:0.524027 [12800/60000]\n",
            "loss:0.510277 [19200/60000]\n",
            "loss:0.534837 [25600/60000]\n",
            "loss:0.296833 [32000/60000]\n",
            "loss:0.638704 [38400/60000]\n",
            "loss:0.415725 [44800/60000]\n",
            "loss:0.472548 [51200/60000]\n",
            "loss:0.321271 [57600/60000]\n",
            "Test Error: \n",
            " Accuracy: 82.8%, Avg loss: 0.477813 \n",
            "\n",
            "Epoch 8\n",
            "-------------------------------\n",
            "loss:0.365919 [    0/60000]\n",
            "loss:0.524638 [ 6400/60000]\n",
            "loss:0.460497 [12800/60000]\n",
            "loss:0.589273 [19200/60000]\n",
            "loss:0.521356 [25600/60000]\n",
            "loss:0.415660 [32000/60000]\n",
            "loss:0.267339 [38400/60000]\n",
            "loss:0.364159 [44800/60000]\n",
            "loss:0.551731 [51200/60000]\n",
            "loss:0.409574 [57600/60000]\n",
            "Test Error: \n",
            " Accuracy: 83.1%, Avg loss: 0.466238 \n",
            "\n",
            "Epoch 9\n",
            "-------------------------------\n",
            "loss:0.474121 [    0/60000]\n",
            "loss:0.453438 [ 6400/60000]\n",
            "loss:0.618431 [12800/60000]\n",
            "loss:0.317209 [19200/60000]\n",
            "loss:0.388801 [25600/60000]\n",
            "loss:0.468035 [32000/60000]\n",
            "loss:0.414513 [38400/60000]\n",
            "loss:0.407007 [44800/60000]\n",
            "loss:0.452527 [51200/60000]\n",
            "loss:0.361211 [57600/60000]\n",
            "Test Error: \n",
            " Accuracy: 83.9%, Avg loss: 0.451626 \n",
            "\n",
            "Epoch 10\n",
            "-------------------------------\n",
            "loss:0.742781 [    0/60000]\n",
            "loss:0.487854 [ 6400/60000]\n",
            "loss:0.310571 [12800/60000]\n",
            "loss:0.351177 [19200/60000]\n",
            "loss:0.418965 [25600/60000]\n",
            "loss:0.319444 [32000/60000]\n",
            "loss:0.303667 [38400/60000]\n",
            "loss:0.375679 [44800/60000]\n",
            "loss:0.445771 [51200/60000]\n",
            "loss:0.365184 [57600/60000]\n",
            "Test Error: \n",
            " Accuracy: 84.2%, Avg loss: 0.451068 \n",
            "\n",
            "Done!\n"
          ]
        }
      ]
    },
    {
      "cell_type": "code",
      "source": [
        "torch.save(model.state_dict(),\"mymodel.pth\")"
      ],
      "metadata": {
        "id": "hR-yAquRTKR6"
      },
      "execution_count": 19,
      "outputs": []
    },
    {
      "cell_type": "code",
      "source": [
        "model=NeuralNetworks()\n",
        "model.load_state_dict(torch.load(\"mymodel.pth\"))\n",
        "print(model)"
      ],
      "metadata": {
        "colab": {
          "base_uri": "https://localhost:8080/"
        },
        "id": "bEm_0OU9TopU",
        "outputId": "aa8a47b9-1697-4c8c-c6aa-348e974372f1"
      },
      "execution_count": 21,
      "outputs": [
        {
          "output_type": "stream",
          "name": "stdout",
          "text": [
            "NeuralNetworks(\n",
            "  (flatten): Flatten(start_dim=1, end_dim=-1)\n",
            "  (linear_relu_stack): Sequential(\n",
            "    (0): Linear(in_features=784, out_features=512, bias=True)\n",
            "    (1): ReLU()\n",
            "    (2): Linear(in_features=512, out_features=512, bias=True)\n",
            "    (3): ReLU()\n",
            "    (4): Linear(in_features=512, out_features=10, bias=True)\n",
            "  )\n",
            ")\n"
          ]
        }
      ]
    },
    {
      "cell_type": "code",
      "source": [
        "\n",
        "classes = [\n",
        "    \"T-shirt/top\",\n",
        "    \"Trouser\",\n",
        "    \"Pullover\",\n",
        "    \"Dress\",\n",
        "    \"Coat\",\n",
        "    \"Sandal\",\n",
        "    \"Shirt\",\n",
        "    \"Sneaker\",\n",
        "    \"Bag\",\n",
        "    \"Ankle boot\"\n",
        "]"
      ],
      "metadata": {
        "id": "uYG-0pXJT48m"
      },
      "execution_count": 22,
      "outputs": []
    },
    {
      "cell_type": "code",
      "source": [
        "model.eval()"
      ],
      "metadata": {
        "colab": {
          "base_uri": "https://localhost:8080/"
        },
        "id": "vyZ_VxIKULzl",
        "outputId": "1bba7c1f-5f98-4b52-99f0-3c15739180fe"
      },
      "execution_count": 23,
      "outputs": [
        {
          "output_type": "execute_result",
          "data": {
            "text/plain": [
              "NeuralNetworks(\n",
              "  (flatten): Flatten(start_dim=1, end_dim=-1)\n",
              "  (linear_relu_stack): Sequential(\n",
              "    (0): Linear(in_features=784, out_features=512, bias=True)\n",
              "    (1): ReLU()\n",
              "    (2): Linear(in_features=512, out_features=512, bias=True)\n",
              "    (3): ReLU()\n",
              "    (4): Linear(in_features=512, out_features=10, bias=True)\n",
              "  )\n",
              ")"
            ]
          },
          "metadata": {},
          "execution_count": 23
        }
      ]
    },
    {
      "cell_type": "code",
      "source": [
        "x, y = testing_set[10][0], testing_set[10][1]"
      ],
      "metadata": {
        "id": "FhSIc_4aUMjx"
      },
      "execution_count": 30,
      "outputs": []
    },
    {
      "cell_type": "code",
      "source": [
        "y"
      ],
      "metadata": {
        "colab": {
          "base_uri": "https://localhost:8080/"
        },
        "id": "Eqxlw5xZUZK4",
        "outputId": "3ff0f675-0913-4158-d14c-6e3756e99171"
      },
      "execution_count": 31,
      "outputs": [
        {
          "output_type": "execute_result",
          "data": {
            "text/plain": [
              "4"
            ]
          },
          "metadata": {},
          "execution_count": 31
        }
      ]
    },
    {
      "cell_type": "code",
      "source": [
        "with torch.no_grad():\n",
        "  pred=model(x)\n",
        "  predicted,actual=classes[pred.argmax(1)],classes[y]\n",
        "  print(f'Predicted: \"{predicted}\", Actual: \"{actual}\"')"
      ],
      "metadata": {
        "colab": {
          "base_uri": "https://localhost:8080/"
        },
        "id": "d4ku3KodUfNN",
        "outputId": "a86f9c3e-2f86-49bd-e150-15240947375b"
      },
      "execution_count": 32,
      "outputs": [
        {
          "output_type": "stream",
          "name": "stdout",
          "text": [
            "Predicted: \"Coat\", Actual: \"Coat\"\n"
          ]
        }
      ]
    },
    {
      "cell_type": "code",
      "source": [
        "import matplotlib.pyplot as plt\n",
        "import numpy as np\n",
        "import torchvision\n",
        "# Loop through the training dataloader to get a batch\n",
        "for images, labels in training_loader:\n",
        "    break  # Get the first batch and exit loop\n",
        "  # Convert the images to numpy arrays\n",
        "images = images.numpy()\n",
        "fig, axes = plt.subplots(nrows=4, ncols=4, figsize=(10, 10))\n",
        "for i, ax in enumerate(axes.flat):\n",
        "    ax.imshow(np.transpose(images[i], (1, 2, 0)))\n",
        "    ax.set_title(f\"Label: {labels[i].item()}\")\n",
        "    ax.axis('off')\n",
        "plt.tight_layout()\n",
        "plt.show()"
      ],
      "metadata": {
        "colab": {
          "base_uri": "https://localhost:8080/",
          "height": 1000
        },
        "id": "d8KUnCQIXpNO",
        "outputId": "c2116574-b052-448d-ac8f-b5f6c3be6b61"
      },
      "execution_count": 33,
      "outputs": [
        {
          "output_type": "display_data",
          "data": {
            "text/plain": [
              "<Figure size 1000x1000 with 16 Axes>"
            ],
            "image/png": "[encoded data removed]"
          },
          "metadata": {}
        }
      ]
    },
    {
      "cell_type": "markdown",
      "source": [
        "### With custom data:\n",
        "\n",
        " * https://www.kaggle.com/code/tirendazacademy/cats-dogs-classification-with-pytorch\n",
        "\n",
        "\n",
        "- https://www.kaggle.com/code/manzoormahmood/transfer-learning-using-resnet50-and-pytorch"
      ],
      "metadata": {
        "id": "ih7WmrtaYVOS"
      }
    },
    {
      "cell_type": "code",
      "source": [],
      "metadata": {
        "id": "Wc7MklX3YEs2"
      },
      "execution_count": null,
      "outputs": []
    }
  ]
}